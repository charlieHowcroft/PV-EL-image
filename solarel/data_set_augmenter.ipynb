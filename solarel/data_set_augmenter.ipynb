{
 "cells": [
  {
   "cell_type": "code",
   "execution_count": 1,
   "metadata": {},
   "outputs": [],
   "source": [
    "import matplotlib.pyplot as plt\n",
    "import cv2\n",
    "import numpy as np\n",
    "import os\n",
    "from pycocotools.coco import COCO"
   ]
  },
  {
   "cell_type": "code",
   "execution_count": 2,
   "metadata": {},
   "outputs": [],
   "source": [
    "def get_file_names(folder_path):\n",
    "    \"\"\"Returns a list of file names in the given folder path\"\"\"\n",
    "    file_names = []\n",
    "    for filename in os.listdir(folder_path):\n",
    "        if os.path.isfile(os.path.join(folder_path, filename)):\n",
    "            file_names.append(filename)\n",
    "    return file_names"
   ]
  },
  {
   "cell_type": "code",
   "execution_count": 22,
   "metadata": {},
   "outputs": [],
   "source": [
    "base_folder = 'C:/Users/chuck/OneDrive/Desktop/Honors/PV-Cell-Segmentation/train/'\n",
    "raw_img_dir = f'{base_folder}raws/'\n",
    "mask_img_dir = f'{base_folder}masks/'\n",
    "\n",
    "img_paths = get_file_names(raw_img_dir)\n"
   ]
  },
  {
   "cell_type": "code",
   "execution_count": 23,
   "metadata": {},
   "outputs": [],
   "source": [
    "def rotate_augment(img_path, raw_img_dir, mask_img_dir):\n",
    "    # Load the image using OpenCV\n",
    "    image = cv2.imread(f\"{raw_img_dir}{img_path}\")\n",
    "    mask = cv2.imread(f\"{mask_img_dir}{img_path}\")\n",
    "\n",
    "    for i in range(3):\n",
    "        # Rotate the image by 90 degrees clockwise\n",
    "        rotated_image = cv2.rotate(image, cv2.ROTATE_90_CLOCKWISE)\n",
    "        cv2.imwrite(f\"{raw_img_dir}{i}_{img_path}\", rotated_image)\n",
    "        rotated_mask = cv2.rotate(mask, cv2.ROTATE_90_CLOCKWISE)\n",
    "        cv2.imwrite(f\"{mask_img_dir}{i}_{img_path}\", rotated_mask)"
   ]
  },
  {
   "cell_type": "code",
   "execution_count": 24,
   "metadata": {},
   "outputs": [],
   "source": [
    "for path in img_paths:\n",
    "    rotate_augment(path, raw_img_dir, mask_img_dir)"
   ]
  }
 ],
 "metadata": {
  "kernelspec": {
   "display_name": "Python 3",
   "language": "python",
   "name": "python3"
  },
  "language_info": {
   "codemirror_mode": {
    "name": "ipython",
    "version": 3
   },
   "file_extension": ".py",
   "mimetype": "text/x-python",
   "name": "python",
   "nbconvert_exporter": "python",
   "pygments_lexer": "ipython3",
   "version": "3.9.7"
  },
  "orig_nbformat": 4
 },
 "nbformat": 4,
 "nbformat_minor": 2
}
