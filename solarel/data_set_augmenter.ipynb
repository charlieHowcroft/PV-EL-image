{
 "cells": [
  {
   "cell_type": "code",
   "execution_count": 1,
   "metadata": {},
   "outputs": [],
   "source": [
    "import matplotlib.pyplot as plt\n",
    "import cv2\n",
    "import numpy as np\n",
    "import os\n",
    "from pycocotools.coco import COCO"
   ]
  },
  {
   "cell_type": "code",
   "execution_count": 2,
   "metadata": {},
   "outputs": [],
   "source": [
    "def get_file_names(folder_path):\n",
    "    \"\"\"Returns a list of file names in the given folder path\"\"\"\n",
    "    file_names = []\n",
    "    for filename in os.listdir(folder_path):\n",
    "        if os.path.isfile(os.path.join(folder_path, filename)):\n",
    "            file_names.append(filename)\n",
    "    return file_names"
   ]
  },
  {
   "cell_type": "code",
   "execution_count": 3,
   "metadata": {},
   "outputs": [],
   "source": [
    "base_folder = 'C:/Users/chuck/OneDrive/Desktop/Honors/PV-Module-Finder/train/'\n",
    "raw_img_dir = f'{base_folder}Raws/'\n",
    "mask_img_dir = f'{base_folder}Masks/'\n",
    "\n",
    "img_paths = get_file_names(raw_img_dir)\n"
   ]
  },
  {
   "cell_type": "code",
   "execution_count": 4,
   "metadata": {},
   "outputs": [],
   "source": [
    "def rotate_augment(img_path, raw_img_dir, mask_img_dir):\n",
    "    # Load the image using OpenCV\n",
    "    image = cv2.imread(f\"{raw_img_dir}{img_path}\")\n",
    "    mask = cv2.imread(f\"{mask_img_dir}{img_path}\")\n",
    "\n",
    "    for i in range(3):\n",
    "        # Rotate the image by 90 degrees clockwise\n",
    "        image = cv2.rotate(image, cv2.ROTATE_90_CLOCKWISE)\n",
    "        cv2.imwrite(f\"{raw_img_dir}{i}_{img_path}\", image)\n",
    "        mask = cv2.rotate(mask, cv2.ROTATE_90_CLOCKWISE)\n",
    "        cv2.imwrite(f\"{mask_img_dir}{i}_{img_path}\", mask)"
   ]
  },
  {
   "cell_type": "code",
   "execution_count": 5,
   "metadata": {},
   "outputs": [],
   "source": [
    "for path in img_paths:\n",
    "    rotate_augment(path, raw_img_dir, mask_img_dir)"
   ]
  },
  {
   "cell_type": "code",
   "execution_count": 9,
   "metadata": {},
   "outputs": [
    {
     "name": "stdout",
     "output_type": "stream",
     "text": [
      "[[[174 174 174]\n",
      "  [178 178 178]\n",
      "  [180 180 180]\n",
      "  ...\n",
      "  [ 49  49  49]\n",
      "  [ 42  42  42]\n",
      "  [ 17  17  17]]\n",
      "\n",
      " [[177 177 177]\n",
      "  [181 181 181]\n",
      "  [182 182 182]\n",
      "  ...\n",
      "  [ 40  40  40]\n",
      "  [ 44  44  44]\n",
      "  [ 34  34  34]]\n",
      "\n",
      " [[177 177 177]\n",
      "  [181 181 181]\n",
      "  [182 182 182]\n",
      "  ...\n",
      "  [ 34  34  34]\n",
      "  [ 32  32  32]\n",
      "  [ 28  28  28]]\n",
      "\n",
      " ...\n",
      "\n",
      " [[186 186 186]\n",
      "  [179 179 179]\n",
      "  [174 174 174]\n",
      "  ...\n",
      "  [ 14  14  14]\n",
      "  [ 18  18  18]\n",
      "  [ 39  39  39]]\n",
      "\n",
      " [[186 186 186]\n",
      "  [178 178 178]\n",
      "  [172 172 172]\n",
      "  ...\n",
      "  [ 13  13  13]\n",
      "  [ 23  23  23]\n",
      "  [ 26  26  26]]\n",
      "\n",
      " [[177 177 177]\n",
      "  [170 170 170]\n",
      "  [167 167 167]\n",
      "  ...\n",
      "  [ 13  13  13]\n",
      "  [ 26  26  26]\n",
      "  [ 11  11  11]]]\n"
     ]
    }
   ],
   "source": [
    "# for example\n",
    "image = cv2.imread(\"example_raw.jpg\")\n",
    "print(image)\n",
    "mask = cv2.imread(\"example_mask.jpg\")\n",
    "\n",
    "for i in range(3):\n",
    "        # Rotate the image by 90 degrees clockwise\n",
    "        image = cv2.rotate(image, cv2.ROTATE_90_CLOCKWISE)\n",
    "        cv2.imwrite(f\"example_raw{i}.jpg\", image)\n",
    "        mask = cv2.rotate(mask, cv2.ROTATE_90_CLOCKWISE)\n",
    "        cv2.imwrite(f\"example_mask{i}.jpg\", mask)"
   ]
  }
 ],
 "metadata": {
  "kernelspec": {
   "display_name": "Python 3",
   "language": "python",
   "name": "python3"
  },
  "language_info": {
   "codemirror_mode": {
    "name": "ipython",
    "version": 3
   },
   "file_extension": ".py",
   "mimetype": "text/x-python",
   "name": "python",
   "nbconvert_exporter": "python",
   "pygments_lexer": "ipython3",
   "version": "3.9.7"
  },
  "orig_nbformat": 4
 },
 "nbformat": 4,
 "nbformat_minor": 2
}
