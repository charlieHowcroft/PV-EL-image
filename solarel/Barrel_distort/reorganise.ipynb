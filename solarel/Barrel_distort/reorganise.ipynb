{
 "cells": [
  {
   "cell_type": "code",
   "execution_count": 38,
   "metadata": {},
   "outputs": [],
   "source": [
    "import numpy as np"
   ]
  },
  {
   "cell_type": "code",
   "execution_count": 39,
   "metadata": {},
   "outputs": [],
   "source": [
    "test_points = [[1,1], [2.1,1.05], [0.9, 2], [2.05, 2.05], [3, 0.9], [3,3], [1.9, 3.1], [1,3], [3,1.1]]"
   ]
  },
  {
   "cell_type": "code",
   "execution_count": 48,
   "metadata": {},
   "outputs": [
    {
     "name": "stdout",
     "output_type": "stream",
     "text": [
      "[0.9, 1, 1, 1.9, 2.05, 2.1, 3, 3, 3]\n",
      "0\n",
      "1\n",
      "1\n",
      "1\n",
      "2\n",
      "1.9\n",
      "3\n",
      "2.05\n",
      "4\n",
      "2.1\n",
      "5\n",
      "3\n",
      "6\n",
      "3\n",
      "7\n",
      "3\n"
     ]
    }
   ],
   "source": [
    "import itertools\n",
    "\n",
    "sorted_points = sorted(test_points, key=lambda p: p[0])\n",
    "xs = [point[0] for point in sorted_points]\n",
    "\n",
    "def cluster(points, maxgap):\n",
    "\n",
    "    sorted_points = sorted(points, key=lambda p: p[0])\n",
    "    xs = [point[0] for point in sorted_points]\n",
    "\n",
    "    print(xs)\n",
    "    groups = [[sorted_points[0]]]\n",
    "    for i, x in enumerate(xs[1:]):\n",
    "        print(i)\n",
    "        print(x)\n",
    "        if abs(x - groups[-1][-1][0]) <= maxgap:\n",
    "            groups[-1].append(sorted_points[i+1])\n",
    "        else:\n",
    "            groups.append([sorted_points[i+1]])\n",
    "    \n",
    "    final = []\n",
    "    for group in groups:\n",
    "        group = sorted(group, key=lambda p: p[1])\n",
    "        final.extend(group)\n",
    "    return final\n",
    "    \n",
    "groups = cluster(test_points, maxgap=0.3)\n",
    "\n"
   ]
  },
  {
   "cell_type": "code",
   "execution_count": 53,
   "metadata": {},
   "outputs": [
    {
     "name": "stderr",
     "output_type": "stream",
     "text": [
      "1938.73s - Error inserting pydevd breaks.\n",
      "Traceback (most recent call last):\n",
      "  File \"c:\\Python\\Python39\\lib\\site-packages\\debugpy\\_vendored\\pydevd\\_pydevd_frame_eval\\pydevd_modify_bytecode.py\", line 328, in insert_pydevd_breaks\n",
      "    for new_instruction in get_instructions_to_add(\n",
      "  File \"c:\\Python\\Python39\\lib\\site-packages\\debugpy\\_vendored\\pydevd\\_pydevd_frame_eval\\pydevd_modify_bytecode.py\", line 102, in get_instructions_to_add\n",
      "    Instr(\"LOAD_CONST\", _pydev_stop_at_break, lineno=stop_at_line - 1),\n",
      "  File \"c:\\Python\\Python39\\lib\\site-packages\\debugpy\\_vendored\\pydevd\\_pydevd_frame_eval\\vendored\\bytecode\\instr.py\", line 171, in __init__\n",
      "    self._set(name, arg, lineno)\n",
      "  File \"c:\\Python\\Python39\\lib\\site-packages\\debugpy\\_vendored\\pydevd\\_pydevd_frame_eval\\vendored\\bytecode\\instr.py\", line 239, in _set\n",
      "    _check_lineno(lineno)\n",
      "  File \"c:\\Python\\Python39\\lib\\site-packages\\debugpy\\_vendored\\pydevd\\_pydevd_frame_eval\\vendored\\bytecode\\instr.py\", line 74, in _check_lineno\n",
      "    raise ValueError(\"invalid lineno\")\n",
      "ValueError: invalid lineno\n",
      "Traceback (most recent call last):\n",
      "  File \"_pydevd_bundle/pydevd_cython.pyx\", line 1084, in _pydevd_bundle.pydevd_cython.PyDBFrame.trace_dispatch\n",
      "  File \"_pydevd_bundle/pydevd_cython.pyx\", line 297, in _pydevd_bundle.pydevd_cython.PyDBFrame.do_wait_suspend\n",
      "  File \"c:\\Python\\Python39\\lib\\site-packages\\debugpy\\_vendored\\pydevd\\pydevd.py\", line 2055, in do_wait_suspend\n",
      "    keep_suspended = self._do_wait_suspend(thread, frame, event, arg, suspend_type, from_this_thread, frames_tracker)\n",
      "  File \"c:\\Python\\Python39\\lib\\site-packages\\debugpy\\_vendored\\pydevd\\pydevd.py\", line 2091, in _do_wait_suspend\n",
      "    time.sleep(0.01)\n",
      "KeyboardInterrupt\n"
     ]
    },
    {
     "ename": "KeyboardInterrupt",
     "evalue": "",
     "output_type": "error",
     "traceback": [
      "\u001b[1;31m---------------------------------------------------------------------------\u001b[0m",
      "\u001b[1;31mKeyboardInterrupt\u001b[0m                         Traceback (most recent call last)",
      "\u001b[1;32mc:\\Users\\chuck\\OneDrive\\Desktop\\Honors\\solarEL\\solarel\\Barrel_distort\\reorganise.ipynb Cell 4\u001b[0m in \u001b[0;36m<cell line: 1>\u001b[1;34m()\u001b[0m\n\u001b[1;32m----> <a href='vscode-notebook-cell:/c%3A/Users/chuck/OneDrive/Desktop/Honors/solarEL/solarel/Barrel_distort/reorganise.ipynb#W3sZmlsZQ%3D%3D?line=0'>1</a>\u001b[0m final \u001b[39m=\u001b[39m []\n\u001b[0;32m      <a href='vscode-notebook-cell:/c%3A/Users/chuck/OneDrive/Desktop/Honors/solarEL/solarel/Barrel_distort/reorganise.ipynb#W3sZmlsZQ%3D%3D?line=1'>2</a>\u001b[0m \u001b[39mfor\u001b[39;00m group \u001b[39min\u001b[39;00m groups:\n\u001b[0;32m      <a href='vscode-notebook-cell:/c%3A/Users/chuck/OneDrive/Desktop/Honors/solarEL/solarel/Barrel_distort/reorganise.ipynb#W3sZmlsZQ%3D%3D?line=2'>3</a>\u001b[0m     group \u001b[39m=\u001b[39m \u001b[39msorted\u001b[39m(group, key\u001b[39m=\u001b[39m\u001b[39mlambda\u001b[39;00m p: p[\u001b[39m1\u001b[39m])\n",
      "\u001b[1;32mc:\\Users\\chuck\\OneDrive\\Desktop\\Honors\\solarEL\\solarel\\Barrel_distort\\reorganise.ipynb Cell 4\u001b[0m in \u001b[0;36m<cell line: 1>\u001b[1;34m()\u001b[0m\n\u001b[1;32m----> <a href='vscode-notebook-cell:/c%3A/Users/chuck/OneDrive/Desktop/Honors/solarEL/solarel/Barrel_distort/reorganise.ipynb#W3sZmlsZQ%3D%3D?line=0'>1</a>\u001b[0m final \u001b[39m=\u001b[39m []\n\u001b[0;32m      <a href='vscode-notebook-cell:/c%3A/Users/chuck/OneDrive/Desktop/Honors/solarEL/solarel/Barrel_distort/reorganise.ipynb#W3sZmlsZQ%3D%3D?line=1'>2</a>\u001b[0m \u001b[39mfor\u001b[39;00m group \u001b[39min\u001b[39;00m groups:\n\u001b[0;32m      <a href='vscode-notebook-cell:/c%3A/Users/chuck/OneDrive/Desktop/Honors/solarEL/solarel/Barrel_distort/reorganise.ipynb#W3sZmlsZQ%3D%3D?line=2'>3</a>\u001b[0m     group \u001b[39m=\u001b[39m \u001b[39msorted\u001b[39m(group, key\u001b[39m=\u001b[39m\u001b[39mlambda\u001b[39;00m p: p[\u001b[39m1\u001b[39m])\n",
      "File \u001b[1;32m_pydevd_bundle/pydevd_cython.pyx:1369\u001b[0m, in \u001b[0;36m_pydevd_bundle.pydevd_cython.SafeCallWrapper.__call__\u001b[1;34m()\u001b[0m\n",
      "File \u001b[1;32m_pydevd_bundle/pydevd_cython.pyx:661\u001b[0m, in \u001b[0;36m_pydevd_bundle.pydevd_cython.PyDBFrame.trace_dispatch\u001b[1;34m()\u001b[0m\n",
      "File \u001b[1;32m_pydevd_bundle/pydevd_cython.pyx:1093\u001b[0m, in \u001b[0;36m_pydevd_bundle.pydevd_cython.PyDBFrame.trace_dispatch\u001b[1;34m()\u001b[0m\n",
      "File \u001b[1;32m_pydevd_bundle/pydevd_cython.pyx:1084\u001b[0m, in \u001b[0;36m_pydevd_bundle.pydevd_cython.PyDBFrame.trace_dispatch\u001b[1;34m()\u001b[0m\n",
      "File \u001b[1;32m_pydevd_bundle/pydevd_cython.pyx:297\u001b[0m, in \u001b[0;36m_pydevd_bundle.pydevd_cython.PyDBFrame.do_wait_suspend\u001b[1;34m()\u001b[0m\n",
      "File \u001b[1;32mc:\\Python\\Python39\\lib\\site-packages\\debugpy\\_vendored\\pydevd\\pydevd.py:2055\u001b[0m, in \u001b[0;36mPyDB.do_wait_suspend\u001b[1;34m(self, thread, frame, event, arg, exception_type)\u001b[0m\n\u001b[0;32m   2052\u001b[0m             from_this_thread\u001b[39m.\u001b[39mappend(frame_custom_thread_id)\n\u001b[0;32m   2054\u001b[0m     \u001b[39mwith\u001b[39;00m \u001b[39mself\u001b[39m\u001b[39m.\u001b[39m_threads_suspended_single_notification\u001b[39m.\u001b[39mnotify_thread_suspended(thread_id, stop_reason):\n\u001b[1;32m-> 2055\u001b[0m         keep_suspended \u001b[39m=\u001b[39m \u001b[39mself\u001b[39;49m\u001b[39m.\u001b[39;49m_do_wait_suspend(thread, frame, event, arg, suspend_type, from_this_thread, frames_tracker)\n\u001b[0;32m   2057\u001b[0m frames_list \u001b[39m=\u001b[39m \u001b[39mNone\u001b[39;00m\n\u001b[0;32m   2059\u001b[0m \u001b[39mif\u001b[39;00m keep_suspended:\n\u001b[0;32m   2060\u001b[0m     \u001b[39m# This means that we should pause again after a set next statement.\u001b[39;00m\n",
      "File \u001b[1;32mc:\\Python\\Python39\\lib\\site-packages\\debugpy\\_vendored\\pydevd\\pydevd.py:2091\u001b[0m, in \u001b[0;36mPyDB._do_wait_suspend\u001b[1;34m(self, thread, frame, event, arg, suspend_type, from_this_thread, frames_tracker)\u001b[0m\n\u001b[0;32m   2088\u001b[0m         \u001b[39mself\u001b[39m\u001b[39m.\u001b[39m_call_input_hook()\n\u001b[0;32m   2090\u001b[0m     \u001b[39mself\u001b[39m\u001b[39m.\u001b[39mprocess_internal_commands()\n\u001b[1;32m-> 2091\u001b[0m     time\u001b[39m.\u001b[39;49msleep(\u001b[39m0.01\u001b[39;49m)\n\u001b[0;32m   2093\u001b[0m \u001b[39mself\u001b[39m\u001b[39m.\u001b[39mcancel_async_evaluation(get_current_thread_id(thread), \u001b[39mstr\u001b[39m(\u001b[39mid\u001b[39m(frame)))\n\u001b[0;32m   2095\u001b[0m \u001b[39m# process any stepping instructions\u001b[39;00m\n",
      "\u001b[1;31mKeyboardInterrupt\u001b[0m: "
     ]
    }
   ],
   "source": [
    "final = []\n",
    "for group in groups:\n",
    "    group = sorted(group, key=lambda p: p[1])\n",
    "    final.extend(group)\n",
    "print(final)"
   ]
  }
 ],
 "metadata": {
  "kernelspec": {
   "display_name": "Python 3",
   "language": "python",
   "name": "python3"
  },
  "language_info": {
   "codemirror_mode": {
    "name": "ipython",
    "version": 3
   },
   "file_extension": ".py",
   "mimetype": "text/x-python",
   "name": "python",
   "nbconvert_exporter": "python",
   "pygments_lexer": "ipython3",
   "version": "3.9.7"
  },
  "orig_nbformat": 4
 },
 "nbformat": 4,
 "nbformat_minor": 2
}
