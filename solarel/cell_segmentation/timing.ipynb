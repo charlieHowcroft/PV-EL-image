{
 "cells": [
  {
   "cell_type": "code",
   "execution_count": 117,
   "metadata": {},
   "outputs": [],
   "source": [
    "import matplotlib.pyplot as plt\n",
    "import numpy as np\n",
    "\n",
    "%matplotlib qt"
   ]
  },
  {
   "cell_type": "code",
   "execution_count": 118,
   "metadata": {},
   "outputs": [
    {
     "name": "stdout",
     "output_type": "stream",
     "text": [
      "0.009154699999998517\n"
     ]
    }
   ],
   "source": [
    "\n",
    "crop_time = 1.2755\n",
    "barrel_time = 0.12079\n",
    "classification_time = 9.23957\n",
    "single_classification_time = classification_time/25\n",
    "model_load_time = 4.06121\n",
    "houglines_time = 0.064551\n",
    "image_extraction_time = 0.0489893\n",
    "total_time = 10.758555\n",
    "\n",
    "other = total_time - image_extraction_time - houglines_time - classification_time - barrel_time - crop_time\n",
    "print(other)"
   ]
  },
  {
   "cell_type": "code",
   "execution_count": 119,
   "metadata": {},
   "outputs": [],
   "source": [
    "import matplotlib.patheffects as path_effects\n",
    "\n",
    "plt.rcParams[\"figure.autolayout\"] = True\n",
    "\n",
    "colours = [\n",
    "    (255, 0, 0),      # Red\n",
    "    (0, 255, 0),      # Green\n",
    "    (0, 0, 255),      # Blue\n",
    "    (128, 0, 128),    # Purple\n",
    "    (255, 165, 0),    # Orange\n",
    "    (0, 128, 128),    # Teal\n",
    "]\n",
    "colours = [(r/255, g/255, b/255) for r, g, b in colours]\n",
    "font1 = {'family': 'georgia', 'size': 24}\n",
    "font2 = {'family': 'georgia', 'size': 20}\n",
    "\n",
    "type = [\"Cell Segmentation\", \"Pre-processing\"]\n",
    "bar_1 = [0, model_load_time]\n",
    "bar_2 = [crop_time, 0]\n",
    "bar_3 = [barrel_time, 0]\n",
    "bar_4 = [classification_time, 0]\n",
    "bar_5 = [houglines_time+image_extraction_time+other, 0]\n",
    "\n",
    "b1 = plt.barh(type, bar_1, color=colours[0], edgecolor='k')\n",
    "b2 = plt.barh(type, bar_2, left=bar_1, color=colours[1], edgecolor='k')\n",
    "b3 = plt.barh(type, bar_3, left=[b1 + b2 for b1, b2 in zip(bar_1, bar_2)], color=colours[2], edgecolor='k')\n",
    "b4 = plt.barh(type, bar_4, left=[b1 + b2 + b3 for b1, b2, b3 in zip(bar_1, bar_2, bar_3)], color=colours[3], edgecolor='k')\n",
    "b5 = plt.barh(type, bar_5, left=[b1 + b2 + b3 + b4 for b1, b2, b3, b4 in zip(bar_1, bar_2, bar_3, bar_4)], color=colours[4], edgecolor='k')\n",
    "\n",
    "# Add text labels to each section of the bar\n",
    "\n",
    "text_effect = [path_effects.withStroke(linewidth=3, foreground='black')]\n",
    "prev = 0\n",
    "plt.text((model_load_time)/2, type[1], str(round(model_load_time,1)) + \" s\", va='center', ha='center', color=(1,1,1),fontdict=font2, path_effects=text_effect)\n",
    "plt.text(prev +(crop_time)/2, type[0], str(round(crop_time,1)) + \" s\", va='center', ha='center', color=(1,1,1),fontdict=font2, path_effects=text_effect)\n",
    "prev = prev +  crop_time\n",
    "plt.text(prev +(barrel_time)/2, type[0], str(round(barrel_time,1)) + \" s\", va='center', ha='center', color=(1,1,1),fontdict=font2, path_effects=text_effect)\n",
    "prev = prev +  barrel_time\n",
    "plt.text(prev +(classification_time)/2, type[0], str(round(classification_time,1)) + \" s\", va='center', ha='center', color=(1,1,1),fontdict=font2, path_effects=text_effect)\n",
    "prev = prev +  classification_time\n",
    "plt.text(prev +((houglines_time+image_extraction_time+other))/2, type[0], str(round((houglines_time+image_extraction_time+other),1)) + \" s\", va='center', ha='center', color=(1,1,1),fontdict=font2, path_effects=text_effect)\n",
    "\n",
    "\n",
    "plt.yticks(fontname='Georgia', fontsize=24)\n",
    "plt.xticks(fontname='Georgia', fontsize=20)\n",
    "plt.grid(axis='x', linestyle='--', alpha=0.7)\n",
    "plt.legend([b1, b2, b3, b4, b5], [\"load Models\", \"Crop to module\", \"Lens correction\", \"Cell Semantic Segmentation\", \"Other\"], prop=font2)\n",
    "plt.xlabel('Time (Seconds)', fontdict=font1)\n",
    "plt.show()"
   ]
  }
 ],
 "metadata": {
  "kernelspec": {
   "display_name": "Python 3",
   "language": "python",
   "name": "python3"
  },
  "language_info": {
   "codemirror_mode": {
    "name": "ipython",
    "version": 3
   },
   "file_extension": ".py",
   "mimetype": "text/x-python",
   "name": "python",
   "nbconvert_exporter": "python",
   "pygments_lexer": "ipython3",
   "version": "3.9.7"
  },
  "orig_nbformat": 4
 },
 "nbformat": 4,
 "nbformat_minor": 2
}
