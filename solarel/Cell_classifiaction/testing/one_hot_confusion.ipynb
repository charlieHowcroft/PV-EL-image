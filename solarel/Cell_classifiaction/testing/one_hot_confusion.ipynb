{
 "cells": [
  {
   "cell_type": "code",
   "execution_count": 2,
   "metadata": {},
   "outputs": [],
   "source": [
    "import gc\n",
    "\n",
    "gc.collect()\n",
    "\n",
    "import tensorflow  as tf\n",
    "import tensorflow_hub as hub\n",
    "import os\n",
    "import matplotlib.pyplot as plt\n",
    "import cv2\n",
    "import numpy as np\n",
    "import random\n",
    "import pandas as pd\n",
    "from sklearn.model_selection import train_test_split\n",
    "import tensorflow_hub as hub\n",
    "import keras\n",
    "import tensorflow_text as text\n"
   ]
  },
  {
   "cell_type": "code",
   "execution_count": 9,
   "metadata": {},
   "outputs": [
    {
     "name": "stdout",
     "output_type": "stream",
     "text": [
      "      Unnamed: 0  prediction  truth\n",
      "0              0           1      1\n",
      "1              1           3      3\n",
      "2              2           1      1\n",
      "3              3           0      0\n",
      "4              4           2      2\n",
      "...          ...         ...    ...\n",
      "1054        1054           1      1\n",
      "1055        1055           0      0\n",
      "1056        1056           1      1\n",
      "1057        1057           0      0\n",
      "1058        1058           0      0\n",
      "\n",
      "[1059 rows x 3 columns]\n"
     ]
    }
   ],
   "source": [
    "import numpy as np\n",
    "import matplotlib.pyplot as plt\n",
    "import seaborn as sns\n",
    "from sklearn.metrics import confusion_matrix\n",
    "%matplotlib qt\n",
    "\n",
    "\n",
    "# csv_path = \"C:/Users/chuck/OneDrive/Desktop/Honors/solarEL/solarel/Cell_classifiaction/testing/good_xception.csv\"\n",
    "# csv_path = \"C:/Users/chuck/OneDrive/Desktop/Honors/solarEL/solarel/Cell_classifiaction/testing/corrosion_xception.csv\"\n",
    "csv_path = \"C:/Users/chuck/OneDrive/Desktop/Honors/solarEL/solarel/Cell_classifiaction/testing/crack_xception.csv\"\n",
    "\n",
    "df = pd.read_csv(csv_path)\n",
    "\n",
    "print(df)\n",
    "truth = df['truth']\n",
    "pred = df['prediction']\n",
    "conf_matrix = confusion_matrix(truth, pred)\n",
    "\n",
    "# Calculate percentages along the rows\n",
    "row_sums = conf_matrix.sum(axis=1, keepdims=True)\n",
    "conf_matrix_percentages = conf_matrix / row_sums * 100\n",
    "\n",
    "# Plot the confusion matrix using Seaborn\n",
    "plt.figure(figsize=(10, 7))\n",
    "heatmap = sns.heatmap(conf_matrix_percentages, annot=True, fmt=\".1f\", cmap=\"Blues\",\n",
    "            xticklabels=[\"0.0\", \"0.33\", \"0.66\", \"1.0\"],\n",
    "            yticklabels=[\"0.0\", \"0.33\", \"0.66\", \"1.0\"])\n",
    "plt.xlabel('Predicted')\n",
    "plt.ylabel('True')\n",
    "plt.title('Crack Class Confusion Matrix')\n",
    "\n",
    "cbar = heatmap.collections[0].colorbar\n",
    "cbar.set_label('Percentage of Predictions (%)', rotation=90, labelpad=15)\n",
    "plt.show()"
   ]
  }
 ],
 "metadata": {
  "kernelspec": {
   "display_name": "Python 3",
   "language": "python",
   "name": "python3"
  },
  "language_info": {
   "codemirror_mode": {
    "name": "ipython",
    "version": 3
   },
   "file_extension": ".py",
   "mimetype": "text/x-python",
   "name": "python",
   "nbconvert_exporter": "python",
   "pygments_lexer": "ipython3",
   "version": "3.9.7"
  }
 },
 "nbformat": 4,
 "nbformat_minor": 2
}
