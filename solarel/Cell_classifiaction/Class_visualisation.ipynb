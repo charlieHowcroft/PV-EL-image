{
 "cells": [
  {
   "cell_type": "code",
   "execution_count": 1,
   "metadata": {},
   "outputs": [],
   "source": [
    "import matplotlib.pyplot as plt\n",
    "import pandas as pd\n",
    "import numpy as np\n"
   ]
  },
  {
   "cell_type": "code",
   "execution_count": 8,
   "metadata": {},
   "outputs": [
    {
     "name": "stdout",
     "output_type": "stream",
     "text": [
      "           image_name  good  crack  corrossion\n",
      "0         image_0.jpg  0.33   0.00        0.66\n",
      "1         image_1.jpg  0.33   0.00        0.66\n",
      "2         image_3.jpg  0.33   0.00        0.66\n",
      "3         image_4.jpg  0.33   0.00        0.66\n",
      "4         image_5.jpg  0.66   0.00        0.33\n",
      "...               ...   ...    ...         ...\n",
      "5289  2_image_993.jpg  0.33   0.66        0.00\n",
      "5290  0_image_994.jpg  0.66   0.33        0.00\n",
      "5291  1_image_994.jpg  0.66   0.33        0.00\n",
      "5292  2_image_994.jpg  0.66   0.33        0.00\n",
      "5293  2_image_998.jpg  1.00   0.00        0.00\n",
      "\n",
      "[5294 rows x 4 columns]\n"
     ]
    }
   ],
   "source": [
    "csv_path = \"C:/Users/chuck/OneDrive/Desktop/Honors/propper_datasets/slim_dataset.csv\"\n",
    "# csv_path = \"C:/Users/chuck/OneDrive/Desktop/filtered_df.csv\"\n",
    "# csv_path = \"C:/Users/chuck/OneDrive/Desktop/Honors/multi-class-dataset(save_point)/multi-class-dataset-new/labelsCracks.csv\"\n",
    "df = pd.read_csv(csv_path)\n",
    "df = df.loc[:, ~df.columns.str.contains('^Unnamed')]\n",
    "# df = df.drop(columns=(\"finger_fault\"))\n",
    "print(df)"
   ]
  },
  {
   "cell_type": "code",
   "execution_count": 3,
   "metadata": {},
   "outputs": [
    {
     "data": {
      "image/png": "[encoded data removed]",
      "text/plain": [
       "<Figure size 432x288 with 1 Axes>"
      ]
     },
     "metadata": {
      "needs_background": "light"
     },
     "output_type": "display_data"
    }
   ],
   "source": [
    "# Extracting 'crack' column data\n",
    "crack_values = df['crack'].values\n",
    "\n",
    "# Defining the bin edges\n",
    "bin_edges = np.linspace(0, 1, num=5)  # Adjust 'num' to change the number of bins\n",
    "# Adding a grid\n",
    "plt.grid(axis='y', linestyle='--')\n",
    "# Creating bar plot\n",
    "plt.bar(range(len(bin_edges) - 1), np.histogram(crack_values, bins=bin_edges)[0], edgecolor='black', linewidth=1)\n",
    "\n",
    "# Axis labels\n",
    "plt.xlabel('Crack Score')\n",
    "plt.ylabel('Number of Examples')\n",
    "\n",
    "# Title\n",
    "plt.title('Crack Class')\n",
    "\n",
    "# Labeling each bin\n",
    "bin_labels = ['0', '0.33', '0.66', '1']\n",
    "plt.xticks(range(len(bin_labels)), bin_labels)\n",
    "\n",
    "# Removing x-axis ticks\n",
    "plt.tick_params(axis='x', which='both', bottom=False, top=False)\n",
    "# Display the plot\n",
    "plt.show()"
   ]
  },
  {
   "cell_type": "code",
   "execution_count": 4,
   "metadata": {},
   "outputs": [
    {
     "name": "stderr",
     "output_type": "stream",
     "text": [
      "No artists with labels found to put in legend.  Note that artists whose label start with an underscore are ignored when legend() is called with no argument.\n"
     ]
    },
    {
     "data": {
      "image/png": "[encoded data removed]",
      "text/plain": [
       "<Figure size 432x288 with 1 Axes>"
      ]
     },
     "metadata": {
      "needs_background": "light"
     },
     "output_type": "display_data"
    }
   ],
   "source": [
    "\n",
    "import numpy as np \n",
    "import matplotlib.pyplot as plt \n",
    "  \n",
    "X = ['0','0.33','0.66','1']\n",
    "good_values = df['good'].values\n",
    "crack_values = df['crack'].values\n",
    "corrosion_values = df['corrossion'].values\n",
    "  \n",
    "bin_edges = np.linspace(0, 1, num=5)  # Adjust 'num' to change the number of bins\n",
    "plt.bar(range(len(bin_edges) - 1), np.histogram(good_values, bins=bin_edges)[0], edgecolor='black', linewidth=1)\n",
    "plt.bar(range(len(bin_edges) - 1), np.histogram(crack_values, bins=bin_edges)[0], edgecolor='black', linewidth=1)\n",
    "  \n",
    "bin_labels = ['0', '0.33', '0.66', '1']\n",
    "plt.xticks(range(len(bin_labels)), bin_labels)\n",
    "plt.xlabel(\"Groups\")\n",
    "plt.ylabel(\"Number of Students\")\n",
    "plt.title(\"Number of Students in each group\")\n",
    "plt.legend()\n",
    "plt.show()"
   ]
  },
  {
   "cell_type": "code",
   "execution_count": 5,
   "metadata": {},
   "outputs": [
    {
     "ename": "KeyError",
     "evalue": "'good_0.0'",
     "output_type": "error",
     "traceback": [
      "\u001b[1;31m---------------------------------------------------------------------------\u001b[0m",
      "\u001b[1;31mKeyError\u001b[0m                                  Traceback (most recent call last)",
      "File \u001b[1;32mc:\\Python\\Python39\\lib\\site-packages\\pandas\\core\\indexes\\base.py:3621\u001b[0m, in \u001b[0;36mIndex.get_loc\u001b[1;34m(self, key, method, tolerance)\u001b[0m\n\u001b[0;32m   3620\u001b[0m \u001b[39mtry\u001b[39;00m:\n\u001b[1;32m-> 3621\u001b[0m     \u001b[39mreturn\u001b[39;00m \u001b[39mself\u001b[39;49m\u001b[39m.\u001b[39;49m_engine\u001b[39m.\u001b[39;49mget_loc(casted_key)\n\u001b[0;32m   3622\u001b[0m \u001b[39mexcept\u001b[39;00m \u001b[39mKeyError\u001b[39;00m \u001b[39mas\u001b[39;00m err:\n",
      "File \u001b[1;32mc:\\Python\\Python39\\lib\\site-packages\\pandas\\_libs\\index.pyx:136\u001b[0m, in \u001b[0;36mpandas._libs.index.IndexEngine.get_loc\u001b[1;34m()\u001b[0m\n",
      "File \u001b[1;32mc:\\Python\\Python39\\lib\\site-packages\\pandas\\_libs\\index.pyx:163\u001b[0m, in \u001b[0;36mpandas._libs.index.IndexEngine.get_loc\u001b[1;34m()\u001b[0m\n",
      "File \u001b[1;32mpandas\\_libs\\hashtable_class_helper.pxi:5198\u001b[0m, in \u001b[0;36mpandas._libs.hashtable.PyObjectHashTable.get_item\u001b[1;34m()\u001b[0m\n",
      "File \u001b[1;32mpandas\\_libs\\hashtable_class_helper.pxi:5206\u001b[0m, in \u001b[0;36mpandas._libs.hashtable.PyObjectHashTable.get_item\u001b[1;34m()\u001b[0m\n",
      "\u001b[1;31mKeyError\u001b[0m: 'good_0.0'",
      "\nThe above exception was the direct cause of the following exception:\n",
      "\u001b[1;31mKeyError\u001b[0m                                  Traceback (most recent call last)",
      "\u001b[1;32mc:\\Users\\chuck\\OneDrive\\Desktop\\Honors\\solarEL\\solarel\\Cell_classifiaction\\Class_visualisation.ipynb Cell 5\u001b[0m line \u001b[0;36m<cell line: 1>\u001b[1;34m()\u001b[0m\n\u001b[1;32m----> <a href='vscode-notebook-cell:/c%3A/Users/chuck/OneDrive/Desktop/Honors/solarEL/solarel/Cell_classifiaction/Class_visualisation.ipynb#W4sZmlsZQ%3D%3D?line=0'>1</a>\u001b[0m good_0_values \u001b[39m=\u001b[39m df[\u001b[39m'\u001b[39;49m\u001b[39mgood_0.0\u001b[39;49m\u001b[39m'\u001b[39;49m]\u001b[39m.\u001b[39mvalues\n\u001b[0;32m      <a href='vscode-notebook-cell:/c%3A/Users/chuck/OneDrive/Desktop/Honors/solarEL/solarel/Cell_classifiaction/Class_visualisation.ipynb#W4sZmlsZQ%3D%3D?line=1'>2</a>\u001b[0m good_33_values \u001b[39m=\u001b[39m df[\u001b[39m'\u001b[39m\u001b[39mgood_0.33\u001b[39m\u001b[39m'\u001b[39m]\u001b[39m.\u001b[39mvalues\n\u001b[0;32m      <a href='vscode-notebook-cell:/c%3A/Users/chuck/OneDrive/Desktop/Honors/solarEL/solarel/Cell_classifiaction/Class_visualisation.ipynb#W4sZmlsZQ%3D%3D?line=2'>3</a>\u001b[0m good_66_values \u001b[39m=\u001b[39m df[\u001b[39m'\u001b[39m\u001b[39mgood_0.66\u001b[39m\u001b[39m'\u001b[39m]\u001b[39m.\u001b[39mvalues\n",
      "File \u001b[1;32mc:\\Python\\Python39\\lib\\site-packages\\pandas\\core\\frame.py:3505\u001b[0m, in \u001b[0;36mDataFrame.__getitem__\u001b[1;34m(self, key)\u001b[0m\n\u001b[0;32m   3503\u001b[0m \u001b[39mif\u001b[39;00m \u001b[39mself\u001b[39m\u001b[39m.\u001b[39mcolumns\u001b[39m.\u001b[39mnlevels \u001b[39m>\u001b[39m \u001b[39m1\u001b[39m:\n\u001b[0;32m   3504\u001b[0m     \u001b[39mreturn\u001b[39;00m \u001b[39mself\u001b[39m\u001b[39m.\u001b[39m_getitem_multilevel(key)\n\u001b[1;32m-> 3505\u001b[0m indexer \u001b[39m=\u001b[39m \u001b[39mself\u001b[39;49m\u001b[39m.\u001b[39;49mcolumns\u001b[39m.\u001b[39;49mget_loc(key)\n\u001b[0;32m   3506\u001b[0m \u001b[39mif\u001b[39;00m is_integer(indexer):\n\u001b[0;32m   3507\u001b[0m     indexer \u001b[39m=\u001b[39m [indexer]\n",
      "File \u001b[1;32mc:\\Python\\Python39\\lib\\site-packages\\pandas\\core\\indexes\\base.py:3623\u001b[0m, in \u001b[0;36mIndex.get_loc\u001b[1;34m(self, key, method, tolerance)\u001b[0m\n\u001b[0;32m   3621\u001b[0m     \u001b[39mreturn\u001b[39;00m \u001b[39mself\u001b[39m\u001b[39m.\u001b[39m_engine\u001b[39m.\u001b[39mget_loc(casted_key)\n\u001b[0;32m   3622\u001b[0m \u001b[39mexcept\u001b[39;00m \u001b[39mKeyError\u001b[39;00m \u001b[39mas\u001b[39;00m err:\n\u001b[1;32m-> 3623\u001b[0m     \u001b[39mraise\u001b[39;00m \u001b[39mKeyError\u001b[39;00m(key) \u001b[39mfrom\u001b[39;00m \u001b[39merr\u001b[39;00m\n\u001b[0;32m   3624\u001b[0m \u001b[39mexcept\u001b[39;00m \u001b[39mTypeError\u001b[39;00m:\n\u001b[0;32m   3625\u001b[0m     \u001b[39m# If we have a listlike key, _check_indexing_error will raise\u001b[39;00m\n\u001b[0;32m   3626\u001b[0m     \u001b[39m#  InvalidIndexError. Otherwise we fall through and re-raise\u001b[39;00m\n\u001b[0;32m   3627\u001b[0m     \u001b[39m#  the TypeError.\u001b[39;00m\n\u001b[0;32m   3628\u001b[0m     \u001b[39mself\u001b[39m\u001b[39m.\u001b[39m_check_indexing_error(key)\n",
      "\u001b[1;31mKeyError\u001b[0m: 'good_0.0'"
     ]
    }
   ],
   "source": [
    "good_0_values = df['good_0.0'].values\n",
    "good_33_values = df['good_0.33'].values\n",
    "good_66_values = df['good_0.66'].values\n",
    "good_1_values = df['good_1.0'].values\n"
   ]
  },
  {
   "cell_type": "code",
   "execution_count": 6,
   "metadata": {},
   "outputs": [
    {
     "data": {
      "image/png": "[encoded data removed]",
      "text/plain": [
       "<Figure size 720x432 with 1 Axes>"
      ]
     },
     "metadata": {
      "needs_background": "light"
     },
     "output_type": "display_data"
    }
   ],
   "source": [
    "good_values = df['good'].values\n",
    "crack_values = df['crack'].values\n",
    "corrosion_values = df['corrossion'].values\n",
    "bin_edges = np.linspace(0, 1, num=5)  # Adjust 'num' to change the number of bins\n",
    "\n",
    "# Calculate the histograms for good_values, crack_values, and corrosion_values\n",
    "good_hist = np.histogram(good_values, bins=bin_edges)[0]\n",
    "crack_hist = np.histogram(crack_values, bins=bin_edges)[0]\n",
    "corrosion_hist = np.histogram(corrosion_values, bins=bin_edges)[0]\n",
    "\n",
    "bar_width = 0.2  # Width of the bars\n",
    "bar_spacing = 0.05  # Spacing between the groups\n",
    "\n",
    "# Create the x-axis values for the bars\n",
    "x = np.arange(len(bin_labels))\n",
    "# Set the figure size\n",
    "fig, ax = plt.subplots(figsize=(10, 6))  # Adjust the width and height as needed\n",
    "\n",
    "# Plot the bars for good_values\n",
    "ax.bar(x - bar_width - bar_spacing, good_hist, width=bar_width, edgecolor='black', linewidth=1, label='Good')\n",
    "\n",
    "# Plot the bars for crack_values\n",
    "ax.bar(x, crack_hist, width=bar_width, edgecolor='black', linewidth=1, label='Crack')\n",
    "ax.grid(axis='y', linestyle='--')\n",
    "# Plot the bars for corrosion_values\n",
    "ax.bar(x + bar_width + bar_spacing, corrosion_hist, width=bar_width, edgecolor='black', linewidth=1, label='Corrosion')\n",
    "\n",
    "# Set the x-axis ticks and labels\n",
    "ax.set_xticks(x)\n",
    "ax.set_xticklabels(bin_labels, fontsize=12)\n",
    "\n",
    "plt.xlabel(\"Score\", fontsize=14)\n",
    "plt.ylabel(\"Number of instances\", fontsize=14)\n",
    "plt.title(\"Class representation in the dataset\", fontsize=16)\n",
    "plt.legend(fontsize=12)\n",
    "# Save the plot as a JPEG file\n",
    "plt.savefig('bar_plot_unbalanced.jpg', format='jpeg', dpi=600)\n",
    "plt.show()"
   ]
  },
  {
   "cell_type": "code",
   "execution_count": 18,
   "metadata": {},
   "outputs": [
    {
     "data": {
      "text/plain": [
       "<Figure size 432x288 with 0 Axes>"
      ]
     },
     "metadata": {},
     "output_type": "display_data"
    }
   ],
   "source": [
    "plt.savefig(\"Class-representation.jpg\") #save as jpg"
   ]
  },
  {
   "cell_type": "code",
   "execution_count": 10,
   "metadata": {},
   "outputs": [
    {
     "name": "stdout",
     "output_type": "stream",
     "text": [
      "[[1128, 948, 1660, 1558], [2998, 916, 420, 960], [4082, 496, 384, 332]]\n"
     ]
    },
    {
     "data": {
      "image/png": "[encoded data removed]",
      "text/plain": [
       "<Figure size 662.4x360 with 1 Axes>"
      ]
     },
     "metadata": {
      "needs_background": "light"
     },
     "output_type": "display_data"
    }
   ],
   "source": [
    "# Example usage:\n",
    "\n",
    "from collections import Counter\n",
    "class_labels = ['Score: 0', 'Score: 0.33', 'Score: 0.66', 'Score: 1']\n",
    "good_count = Counter(list(df[\"good\"].values))\n",
    "crack_count = Counter(list(df[\"crack\"].values))\n",
    "corrosion_count = Counter(list(df[\"corrossion\"].values))\n",
    "class_count_list = [\n",
    "    [good_count[0], good_count[0.33], good_count[0.66], good_count[1]],\n",
    "    [crack_count[0], crack_count[0.33], crack_count[0.66], crack_count[1]],\n",
    "    [corrosion_count[0], corrosion_count[0.33], corrosion_count[0.66], corrosion_count[1]]\n",
    "]\n",
    "print(class_count_list)\n",
    "\n",
    "category_names = ['Score: 0', 'Score: 0.33', 'Score: 0.66', 'Score: 1']\n",
    "results = {\n",
    "    'Good': class_count_list[0],\n",
    "    'Crack': class_count_list[1],\n",
    "    'Corroded': class_count_list[2],\n",
    "}\n",
    "\n",
    "\n",
    "def survey(results, category_names):\n",
    "    \"\"\"\n",
    "    Parameters\n",
    "    ----------\n",
    "    results : dict\n",
    "        A mapping from question labels to a list of answers per category.\n",
    "        It is assumed all lists contain the same number of entries and that\n",
    "        it matches the length of *category_names*.\n",
    "    category_names : list of str\n",
    "        The category labels.\n",
    "    \"\"\"\n",
    "    labels = list(results.keys())\n",
    "    data = np.array(list(results.values()))\n",
    "    data_cum = data.cumsum(axis=1)\n",
    "    category_colors = plt.colormaps['RdYlGn'](\n",
    "        np.linspace(0.15, 0.85, data.shape[1]))\n",
    "\n",
    "    fig, ax = plt.subplots(figsize=(9.2, 5))\n",
    "    ax.invert_yaxis()\n",
    "    ax.xaxis.set_visible(False)\n",
    "    ax.set_xlim(0, np.sum(data, axis=1).max())\n",
    "\n",
    "    for i, (colname, color) in enumerate(zip(category_names, category_colors)):\n",
    "        widths = data[:, i]\n",
    "        starts = data_cum[:, i] - widths\n",
    "        rects = ax.barh(labels, widths, left=starts, height=0.5,\n",
    "                        label=colname, color=color, edgecolor='black')\n",
    "\n",
    "        ax.bar_label(rects, label_type='center', color='black', fontsize='large')\n",
    "\n",
    "    ax.legend(ncol = 4, loc='lower center', fontsize='large',  bbox_to_anchor=(0.5, -0.15))\n",
    "\n",
    "    return fig, ax\n",
    "\n",
    "survey(results, category_names)\n",
    "plt.savefig('bar_plot_classes_unbalance.jpg', format='jpeg', dpi=600)\n",
    "plt.show()"
   ]
  },
  {
   "cell_type": "markdown",
   "metadata": {},
   "source": [
    "## Normalised classes"
   ]
  },
  {
   "cell_type": "code",
   "execution_count": 2,
   "metadata": {},
   "outputs": [
    {
     "name": "stdout",
     "output_type": "stream",
     "text": [
      "            image_name  good_0.0  good_0.33  good_0.66  good_1.0\n",
      "0          image_0.jpg         0          1          0         0\n",
      "1          image_1.jpg         0          1          0         0\n",
      "2          image_2.jpg         0          0          0         1\n",
      "3          image_3.jpg         0          1          0         0\n",
      "4          image_4.jpg         0          1          0         0\n",
      "...                ...       ...        ...        ...       ...\n",
      "2991  1_image_2472.jpg         0          0          0         1\n",
      "2992  2_image_2472.jpg         0          0          0         1\n",
      "2993  0_image_2473.jpg         0          0          0         1\n",
      "2994  1_image_2473.jpg         0          0          0         1\n",
      "2995  2_image_2473.jpg         0          0          0         1\n",
      "\n",
      "[2996 rows x 5 columns]\n",
      "2996\n"
     ]
    },
    {
     "data": {
      "text/plain": [
       "<function pandas.io.parsers.readers.read_csv(filepath_or_buffer: 'FilePath | ReadCsvBuffer[bytes] | ReadCsvBuffer[str]', sep=<no_default>, delimiter=None, header='infer', names=<no_default>, index_col=None, usecols=None, squeeze=None, prefix=<no_default>, mangle_dupe_cols=True, dtype: 'DtypeArg | None' = None, engine: 'CSVEngine | None' = None, converters=None, true_values=None, false_values=None, skipinitialspace=False, skiprows=None, skipfooter=0, nrows=None, na_values=None, keep_default_na=True, na_filter=True, verbose=False, skip_blank_lines=True, parse_dates=None, infer_datetime_format=False, keep_date_col=False, date_parser=None, dayfirst=False, cache_dates=True, iterator=False, chunksize=None, compression: 'CompressionOptions' = 'infer', thousands=None, decimal: 'str' = '.', lineterminator=None, quotechar='\"', quoting=0, doublequote=True, escapechar=None, comment=None, encoding=None, encoding_errors: 'str | None' = 'strict', dialect=None, error_bad_lines=None, warn_bad_lines=None, on_bad_lines=None, delim_whitespace=False, low_memory=True, memory_map=False, float_precision=None, storage_options: 'StorageOptions' = None)>"
      ]
     },
     "execution_count": 2,
     "metadata": {},
     "output_type": "execute_result"
    }
   ],
   "source": [
    "csv_path_good = \"C:/Users/chuck/OneDrive/Desktop/plane_onehot/balanced_good_df_encoded.csv\"\n",
    "csv_path_crack = \"C:/Users/chuck/OneDrive/Desktop/plane_onehot/balanced_crack_df_encoded.csv\"\n",
    "csv_path_corrosion = \"C:/Users/chuck/OneDrive/Desktop/plane_onehot/balanced_corrossion_df_encoded.csv\"\n",
    "df_good = pd.read_csv(csv_path_good)\n",
    "df_crack = pd.read_csv(csv_path_crack)\n",
    "df_corrosion = pd.read_csv(csv_path_corrosion)\n",
    "df_good = df_good.loc[:, ~df_good.columns.str.contains('^Unnamed')]\n",
    "df_crack = df_crack.loc[:, ~df_crack.columns.str.contains('^Unnamed')]\n",
    "df_corrosion = df_corrosion.loc[:, ~df_corrosion.columns.str.contains('^Unnamed')]\n",
    "# df = df.drop(columns=(\"finger_fault\"))\n",
    "print(df_good)\n",
    "print(len(df_good))\n",
    "\n",
    "pd.read_csv"
   ]
  },
  {
   "cell_type": "code",
   "execution_count": 3,
   "metadata": {},
   "outputs": [
    {
     "name": "stdout",
     "output_type": "stream",
     "text": [
      "[792, 624, 776, 804]\n"
     ]
    }
   ],
   "source": [
    "def summarise_onehot_classes(df):\n",
    "    class_nums = []\n",
    "    for i, column in enumerate(df):\n",
    "        class_nums.append(df[column].value_counts()[1])\n",
    "\n",
    "    return class_nums[1:]\n",
    "\n",
    "good_class_nums = summarise_onehot_classes(df_good)\n",
    "print(good_class_nums)\n",
    "corrosion_class_nums = summarise_onehot_classes(df_corrosion)\n",
    "crack_class_nums = summarise_onehot_classes(df_crack)"
   ]
  },
  {
   "cell_type": "code",
   "execution_count": 4,
   "metadata": {},
   "outputs": [
    {
     "name": "stdout",
     "output_type": "stream",
     "text": [
      "[26.43524699599466, 20.827770360480642, 25.901201602136183, 26.83578104138852]\n"
     ]
    }
   ],
   "source": [
    "good_class_nums = [100*num/len(df_good) for num in good_class_nums]\n",
    "crack_class_nums = [100*num/len(df_crack) for num in crack_class_nums]\n",
    "corrosion_class_nums = [100*num/len(df_corrosion) for num in corrosion_class_nums]\n",
    "print(good_class_nums)\n"
   ]
  },
  {
   "cell_type": "code",
   "execution_count": 16,
   "metadata": {},
   "outputs": [
    {
     "name": "stdout",
     "output_type": "stream",
     "text": [
      "26.43524699599466\n",
      "29.27400468384075\n",
      "29.205607476635514\n",
      "47.2630173564753\n",
      "57.61124121779859\n",
      "58.177570093457945\n",
      "73.16421895861149\n",
      "70.02341920374707\n",
      "80.60747663551402\n",
      "100.0\n",
      "100.0\n",
      "100.0\n"
     ]
    }
   ],
   "source": [
    "%matplotlib qt\n",
    "import matplotlib.patheffects as path_effects\n",
    "\n",
    "\n",
    "fig = plt.figure()\n",
    "ax = plt.subplot(111)\n",
    "\n",
    "colours = [\n",
    "    (204, 0, 0),\n",
    "    (255, 100, 0), \n",
    "    (100, 204, 51),\n",
    "    (0, 102, 0),\n",
    "]\n",
    "colours = [(r/255, g/255, b/255) for r, g, b in colours]\n",
    "font1 = {'family': 'georgia', 'size': 20}\n",
    "font2 = {'family': 'georgia', 'size': 16}\n",
    "\n",
    "type = [\"Good\", \"Crack\", \"Corrosion\"]\n",
    "bars = []\n",
    "for i in range(len(good_class_nums)):\n",
    "    bars.append([good_class_nums[i], crack_class_nums[i], corrosion_class_nums[i]])\n",
    "\n",
    "b1 = ax.barh(type, bars[0], color=colours[0], edgecolor='k')\n",
    "b2 = ax.barh(type, bars[1], left=bars[0], color=colours[1], edgecolor='k')\n",
    "b3 = ax.barh(type, bars[2], left=[b1 + b2 for b1, b2 in zip(bars[0], bars[1])], color=colours[2], edgecolor='k')\n",
    "b4 = ax.barh(type, bars[3], left=[b1 + b2 + b3 for b1, b2, b3 in zip(bars[0], bars[1], bars[2])], color=colours[3], edgecolor='k')\n",
    "\n",
    "# Add text labels to each section of the bar\n",
    "text_effect = [path_effects.withStroke(linewidth=3, foreground='black')]\n",
    "prev = [0]*len(bars)\n",
    "for bar in bars:\n",
    "    for i in range(len(bar)):\n",
    "        ax.text(prev[i]+(bar[i])/2, type[i], str(round(bar[i],1)) + \" %\", va='center', ha='center', color=(1,1,1),fontdict=font2, path_effects=text_effect)\n",
    "        prev[i] = prev[i] + bar[i]\n",
    "        print(prev[i])\n",
    "\n",
    "plt.yticks(fontname='Georgia', fontsize=20)\n",
    "plt.xticks(fontname='Georgia', fontsize=16)\n",
    "plt.grid(axis='x', linestyle='--', alpha=0.7)\n",
    "plt.xlabel('Percent of dataset', fontdict=font1)\n",
    "\n",
    "legend = ax.legend([b1, b2, b3, b4], [\"0\", \"0.33\", \"0.66\", \"1\"], title=\"Score\", prop=font2, loc='upper center', bbox_to_anchor=(0.5, 1.15), ncol=len(bars), shadow=True)\n",
    "legend.get_title().set_fontproperties(font2)\n",
    "plt.show()\n",
    "plt.savefig(\"output.png\", bbox_inches=\"tight\")"
   ]
  }
 ],
 "metadata": {
  "kernelspec": {
   "display_name": "Python 3",
   "language": "python",
   "name": "python3"
  },
  "language_info": {
   "codemirror_mode": {
    "name": "ipython",
    "version": 3
   },
   "file_extension": ".py",
   "mimetype": "text/x-python",
   "name": "python",
   "nbconvert_exporter": "python",
   "pygments_lexer": "ipython3",
   "version": "3.9.7"
  },
  "orig_nbformat": 4
 },
 "nbformat": 4,
 "nbformat_minor": 2
}
