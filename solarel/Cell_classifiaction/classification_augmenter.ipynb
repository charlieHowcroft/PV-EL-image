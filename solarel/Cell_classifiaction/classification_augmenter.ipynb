{
 "cells": [
  {
   "cell_type": "code",
   "execution_count": 1,
   "metadata": {},
   "outputs": [],
   "source": [
    "import matplotlib.pyplot as plt\n",
    "import cv2\n",
    "import numpy as np\n",
    "import os\n",
    "import pandas as pd"
   ]
  },
  {
   "cell_type": "code",
   "execution_count": 2,
   "metadata": {},
   "outputs": [],
   "source": [
    "def get_file_names(folder_path):\n",
    "    \"\"\"Returns a list of file names in the given folder path\"\"\"\n",
    "    file_names = []\n",
    "    for filename in os.listdir(folder_path):\n",
    "        if os.path.isfile(os.path.join(folder_path, filename)):\n",
    "            file_names.append(filename)\n",
    "    return file_names"
   ]
  },
  {
   "cell_type": "code",
   "execution_count": 8,
   "metadata": {},
   "outputs": [],
   "source": [
    "# base_folder = 'C:/Users/chuck/OneDrive/Desktop/Honors/dataset_expanded/multi-class-dataset-new'\n",
    "# img_folder = f'{base_folder}/images'\n",
    "\n",
    "# img_names = get_file_names(img_folder)"
   ]
  },
  {
   "cell_type": "code",
   "execution_count": 2,
   "metadata": {},
   "outputs": [
    {
     "name": "stdout",
     "output_type": "stream",
     "text": [
      "         image_name  good  crack  corrossion\n",
      "0       image_0.jpg  0.33    0.0        0.66\n",
      "1       image_1.jpg  0.33    0.0        0.66\n",
      "2       image_2.jpg  1.00    0.0        0.00\n",
      "3       image_3.jpg  0.33    0.0        0.66\n",
      "4       image_4.jpg  0.33    0.0        0.66\n",
      "..              ...   ...    ...         ...\n",
      "744  image_2468.jpg  1.00    0.0        0.00\n",
      "745  image_2470.jpg  0.33    0.0        0.00\n",
      "746  image_2471.jpg  1.00    0.0        0.00\n",
      "747  image_2472.jpg  1.00    0.0        0.00\n",
      "748  image_2473.jpg  1.00    0.0        0.00\n",
      "\n",
      "[749 rows x 4 columns]\n"
     ]
    }
   ],
   "source": [
    "# csv_path = f\"{base_folder}/labels.csv\"\n",
    "csv_path = \"C:/Users/chuck/OneDrive/Desktop/filtered_df.csv\"\n",
    "labels_df = pd.read_csv(csv_path)\n",
    "labels_df = labels_df.loc[:, ~labels_df.columns.str.contains('^Unnamed')]\n",
    "# labels_df = labels_df.drop(['finger_fault'], axis=1)\n",
    "print(labels_df)"
   ]
  },
  {
   "cell_type": "code",
   "execution_count": 3,
   "metadata": {},
   "outputs": [],
   "source": [
    "def rotate_augment(img_folder ,img_name, labels_df):\n",
    "    # Load the image using OpenCV\n",
    "    # image = cv2.imread(f\"{img_folder}/{img_name}\")\n",
    "\n",
    "    for i in range(3):\n",
    "        # Rotate the image by 90 degrees clockwise\n",
    "        # image = cv2.rotate(image, cv2.ROTATE_90_CLOCKWISE)\n",
    "        # cv2.imwrite(f\"{img_folder}/{i}_{img_name}\", image)\n",
    "        original_row = labels_df[labels_df['image_name'] == img_name]\n",
    "        temp = original_row.values[0]\n",
    "        new_row = pd.DataFrame({'image_name': f'{i}_{img_name}', 'good': temp[1], 'crack': temp[2], 'corrossion': temp[3]}, index=[0])\n",
    "        labels_df = pd.concat([labels_df, new_row], ignore_index=True)\n",
    "    \n",
    "    return labels_df"
   ]
  },
  {
   "cell_type": "code",
   "execution_count": 5,
   "metadata": {},
   "outputs": [
    {
     "name": "stdout",
     "output_type": "stream",
     "text": [
      "            image_name  good  crack  corrossion\n",
      "0          image_0.jpg  0.33    0.0        0.66\n",
      "1          image_1.jpg  0.33    0.0        0.66\n",
      "2          image_2.jpg  1.00    0.0        0.00\n",
      "3          image_3.jpg  0.33    0.0        0.66\n",
      "4          image_4.jpg  0.33    0.0        0.66\n",
      "...                ...   ...    ...         ...\n",
      "2991  1_image_2472.jpg  1.00    0.0        0.00\n",
      "2992  2_image_2472.jpg  1.00    0.0        0.00\n",
      "2993  0_image_2473.jpg  1.00    0.0        0.00\n",
      "2994  1_image_2473.jpg  1.00    0.0        0.00\n",
      "2995  2_image_2473.jpg  1.00    0.0        0.00\n",
      "\n",
      "[2996 rows x 4 columns]\n"
     ]
    }
   ],
   "source": [
    "# for img_name in img_names:\n",
    "#     df = rotate_augment(img_folder=img_folder, img_name=img_name, labels_df=labels_df)\n",
    "#     labels_df = df\n",
    "\n",
    "img_names = labels_df['image_name'].values\n",
    "for img_name in img_names:\n",
    "    df = rotate_augment(img_folder=\"img_folder\", img_name=img_name, labels_df=labels_df)\n",
    "    labels_df = df\n",
    "\n",
    "print(df)"
   ]
  },
  {
   "cell_type": "code",
   "execution_count": 6,
   "metadata": {},
   "outputs": [],
   "source": [
    "df.to_csv(\"labels.csv\", index=False)"
   ]
  }
 ],
 "metadata": {
  "kernelspec": {
   "display_name": "Python 3",
   "language": "python",
   "name": "python3"
  },
  "language_info": {
   "codemirror_mode": {
    "name": "ipython",
    "version": 3
   },
   "file_extension": ".py",
   "mimetype": "text/x-python",
   "name": "python",
   "nbconvert_exporter": "python",
   "pygments_lexer": "ipython3",
   "version": "3.9.7"
  },
  "orig_nbformat": 4
 },
 "nbformat": 4,
 "nbformat_minor": 2
}
