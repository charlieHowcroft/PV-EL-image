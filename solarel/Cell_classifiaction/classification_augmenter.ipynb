{
 "cells": [
  {
   "cell_type": "code",
   "execution_count": 261,
   "metadata": {},
   "outputs": [],
   "source": [
    "import matplotlib.pyplot as plt\n",
    "import cv2\n",
    "import numpy as np\n",
    "import os\n",
    "import pandas as pd"
   ]
  },
  {
   "cell_type": "code",
   "execution_count": 262,
   "metadata": {},
   "outputs": [],
   "source": [
    "def get_file_names(folder_path):\n",
    "    \"\"\"Returns a list of file names in the given folder path\"\"\"\n",
    "    file_names = []\n",
    "    for filename in os.listdir(folder_path):\n",
    "        if os.path.isfile(os.path.join(folder_path, filename)):\n",
    "            file_names.append(filename)\n",
    "    return file_names"
   ]
  },
  {
   "cell_type": "code",
   "execution_count": 263,
   "metadata": {},
   "outputs": [],
   "source": [
    "base_folder = 'C:/Users/chuck/OneDrive/Desktop/Honors/multi-class-dataset/multi-class-dataset'\n",
    "img_folder = f'{base_folder}/images'\n",
    "\n",
    "img_names = get_file_names(img_folder)"
   ]
  },
  {
   "cell_type": "code",
   "execution_count": 264,
   "metadata": {},
   "outputs": [
    {
     "name": "stdout",
     "output_type": "stream",
     "text": [
      "        image_name  good  crack  corrossion  finger_fault\n",
      "0      image_0.jpg  0.33    0.0        0.66           0.0\n",
      "1      image_1.jpg  0.33    0.0        0.66           0.0\n",
      "2      image_2.jpg  1.00    0.0        0.00           0.0\n",
      "3      image_3.jpg  0.33    0.0        0.66           0.0\n",
      "4      image_4.jpg  0.33    0.0        0.66           0.0\n",
      "..             ...   ...    ...         ...           ...\n",
      "878  image_878.jpg  1.00    0.0        0.00           0.0\n",
      "879  image_879.jpg  0.66    0.0        0.33           0.0\n",
      "880  image_880.jpg  1.00    0.0        0.00           0.0\n",
      "881  image_881.jpg  1.00    0.0        0.00           0.0\n",
      "882  image_882.jpg  1.00    0.0        0.00           0.0\n",
      "\n",
      "[883 rows x 5 columns]\n"
     ]
    }
   ],
   "source": [
    "csv_path = f\"{base_folder}/labels.csv\"\n",
    "labels_df = pd.read_csv(csv_path)\n",
    "labels_df = labels_df.loc[:, ~labels_df.columns.str.contains('^Unnamed')]\n",
    "print(labels_df)"
   ]
  },
  {
   "cell_type": "code",
   "execution_count": 265,
   "metadata": {},
   "outputs": [],
   "source": [
    "def rotate_augment(img_folder ,img_name, labels_df):\n",
    "    # Load the image using OpenCV\n",
    "    image = cv2.imread(f\"{img_folder}/{img_name}\")\n",
    "\n",
    "    for i in range(3):\n",
    "        # Rotate the image by 90 degrees clockwise\n",
    "        image = cv2.rotate(image, cv2.ROTATE_90_CLOCKWISE)\n",
    "        cv2.imwrite(f\"{img_folder}/{i}_{img_name}\", image)\n",
    "        original_row = labels_df[labels_df['image_name'] == img_name]\n",
    "        temp = original_row.values[0]\n",
    "        new_row = pd.DataFrame({'image_name': f'{i}_{img_name}', 'good': temp[1], 'crack': temp[2], 'corrossion': temp[3], 'finger_fault': temp[4]}, index=[0])\n",
    "        labels_df = pd.concat([labels_df, new_row], ignore_index=True)\n",
    "    \n",
    "    return labels_df"
   ]
  },
  {
   "cell_type": "code",
   "execution_count": 266,
   "metadata": {},
   "outputs": [
    {
     "name": "stdout",
     "output_type": "stream",
     "text": [
      "        image_name  good  crack  corrossion  finger_fault\n",
      "0      image_0.jpg  0.33    0.0        0.66           0.0\n",
      "1      image_1.jpg  0.33    0.0        0.66           0.0\n",
      "2      image_2.jpg  1.00    0.0        0.00           0.0\n",
      "3      image_3.jpg  0.33    0.0        0.66           0.0\n",
      "4      image_4.jpg  0.33    0.0        0.66           0.0\n",
      "..             ...   ...    ...         ...           ...\n",
      "878  image_878.jpg  1.00    0.0        0.00           0.0\n",
      "879  image_879.jpg  0.66    0.0        0.33           0.0\n",
      "880  image_880.jpg  1.00    0.0        0.00           0.0\n",
      "881  image_881.jpg  1.00    0.0        0.00           0.0\n",
      "882  image_882.jpg  1.00    0.0        0.00           0.0\n",
      "\n",
      "[883 rows x 5 columns]\n",
      "          image_name  good  crack  corrossion  finger_fault\n",
      "0        image_0.jpg  0.33    0.0        0.66           0.0\n",
      "1        image_1.jpg  0.33    0.0        0.66           0.0\n",
      "2        image_2.jpg  1.00    0.0        0.00           0.0\n",
      "3        image_3.jpg  0.33    0.0        0.66           0.0\n",
      "4        image_4.jpg  0.33    0.0        0.66           0.0\n",
      "...              ...   ...    ...         ...           ...\n",
      "3527  1_image_98.jpg  0.66    0.0        0.33           0.0\n",
      "3528  2_image_98.jpg  0.66    0.0        0.33           0.0\n",
      "3529  0_image_99.jpg  0.00    0.0        1.00           0.0\n",
      "3530  1_image_99.jpg  0.00    0.0        1.00           0.0\n",
      "3531  2_image_99.jpg  0.00    0.0        1.00           0.0\n",
      "\n",
      "[3532 rows x 5 columns]\n"
     ]
    }
   ],
   "source": [
    "for img_name in img_names:\n",
    "    df = rotate_augment(img_folder=img_folder, img_name=img_name, labels_df=labels_df)\n",
    "    labels_df = df"
   ]
  },
  {
   "cell_type": "code",
   "execution_count": 269,
   "metadata": {},
   "outputs": [],
   "source": [
    "df.to_csv(\"labels.csv\", index=False)"
   ]
  }
 ],
 "metadata": {
  "kernelspec": {
   "display_name": "Python 3",
   "language": "python",
   "name": "python3"
  },
  "language_info": {
   "codemirror_mode": {
    "name": "ipython",
    "version": 3
   },
   "file_extension": ".py",
   "mimetype": "text/x-python",
   "name": "python",
   "nbconvert_exporter": "python",
   "pygments_lexer": "ipython3",
   "version": "3.9.7"
  },
  "orig_nbformat": 4
 },
 "nbformat": 4,
 "nbformat_minor": 2
}
