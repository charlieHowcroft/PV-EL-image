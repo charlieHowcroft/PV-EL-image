{
 "cells": [
  {
   "cell_type": "code",
   "execution_count": 11,
   "metadata": {},
   "outputs": [],
   "source": [
    "import matplotlib.pyplot as plt\n",
    "import cv2\n",
    "import numpy as np\n",
    "from camera_utils import fix_barrel_distortion\n",
    "import math\n",
    "import random\n",
    "import os\n",
    "from datetime import datetime"
   ]
  },
  {
   "cell_type": "code",
   "execution_count": 12,
   "metadata": {},
   "outputs": [],
   "source": [
    "def all_image_paths(folders):\n",
    "    files = []\n",
    "    for folder in folders:\n",
    "        for dirpath, dirnames, filenames in os.walk(folder):\n",
    "            for filename in filenames:\n",
    "                files.append(os.path.join(dirpath, filename))\n",
    "    if not files:\n",
    "        return None\n",
    "    \n",
    "    return files"
   ]
  },
  {
   "cell_type": "code",
   "execution_count": 13,
   "metadata": {},
   "outputs": [],
   "source": [
    "def crop_image(image, width_percent):\n",
    "    toml_path = \"C:/Users/chuck/OneDrive/Desktop/Honors/solarEL/solarel/configs/camera_config.toml\"\n",
    "    image = cv2.cvtColor(image, cv2.COLOR_BGR2GRAY)\n",
    "    # image = cv2.fastNlMeansDenoising(image, None, 15, 7, 21)\n",
    "    image = fix_barrel_distortion(image, toml_path)\n",
    "    width, height = np.shape(image)\n",
    "    crop_width = int(width * width_percent / 100)\n",
    "    left_crop = (width - crop_width) // 2\n",
    "    right_crop = left_crop + crop_width\n",
    "    return image[:, left_crop:right_crop]"
   ]
  },
  {
   "cell_type": "code",
   "execution_count": 14,
   "metadata": {},
   "outputs": [],
   "source": [
    "def random_square_section(image, width_percent_min, width_percent_max):\n",
    "    \"\"\"\n",
    "    Selects a random square section from an input image with a width specified as a percentage of the image width.\n",
    "    Returns the selected section of the image.\n",
    "    \"\"\"\n",
    "    height, width = image.shape[:2]\n",
    "    section_width_min = int(width * (width_percent_min / 100.0))\n",
    "    section_width_max = int(width * (width_percent_max / 100.0))\n",
    "    width_new = random.randint(section_width_min, section_width_max)\n",
    "    # Calculate random starting point for the section\n",
    "    start_x = random.randint(0, width - width_new)\n",
    "    start_y = random.randint(0, height - width_new)\n",
    "    # Extract the section from the image\n",
    "    section = image[start_y:start_y+width_new, start_x:start_x+width_new]\n",
    "    return section"
   ]
  },
  {
   "cell_type": "code",
   "execution_count": 15,
   "metadata": {},
   "outputs": [],
   "source": [
    "folders = [\"C:/Users/chuck/OneDrive/Desktop/Honors/BT1/BT1\"]\n",
    "image_paths = all_image_paths(folders)\n",
    "for image_path in image_paths:\n",
    "    image = cv2.imread(image_path)\n",
    "    image = crop_image(image, 80)\n",
    "    dt = datetime.now()\n",
    "    ts = datetime.timestamp(dt)\n",
    "    for i in range(3):\n",
    "        image_new = random_square_section(image, 20, 40)\n",
    "        cv2.imwrite(f\"cropped_images/{ts}_{i}.jpg\", image_new)"
   ]
  }
 ],
 "metadata": {
  "kernelspec": {
   "display_name": "Python 3",
   "language": "python",
   "name": "python3"
  },
  "language_info": {
   "codemirror_mode": {
    "name": "ipython",
    "version": 3
   },
   "file_extension": ".py",
   "mimetype": "text/x-python",
   "name": "python",
   "nbconvert_exporter": "python",
   "pygments_lexer": "ipython3",
   "version": "3.9.7"
  },
  "orig_nbformat": 4
 },
 "nbformat": 4,
 "nbformat_minor": 2
}
