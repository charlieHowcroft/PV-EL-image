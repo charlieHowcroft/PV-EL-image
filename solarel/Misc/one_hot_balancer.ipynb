{
 "cells": [
  {
   "cell_type": "code",
   "execution_count": 14,
   "metadata": {},
   "outputs": [
    {
     "name": "stdout",
     "output_type": "stream",
     "text": [
      "2996\n",
      "            image_name  corrossion_0.0  corrossion_0.33  corrossion_0.66  \\\n",
      "0          image_0.jpg               0                0                1   \n",
      "1          image_1.jpg               0                0                1   \n",
      "2          image_2.jpg               1                0                0   \n",
      "3          image_3.jpg               0                0                1   \n",
      "4          image_4.jpg               0                0                1   \n",
      "...                ...             ...              ...              ...   \n",
      "2991  1_image_2472.jpg               1                0                0   \n",
      "2992  2_image_2472.jpg               1                0                0   \n",
      "2993  0_image_2473.jpg               1                0                0   \n",
      "2994  1_image_2473.jpg               1                0                0   \n",
      "2995  2_image_2473.jpg               1                0                0   \n",
      "\n",
      "      corrossion_1.0  \n",
      "0                  0  \n",
      "1                  0  \n",
      "2                  0  \n",
      "3                  0  \n",
      "4                  0  \n",
      "...              ...  \n",
      "2991               0  \n",
      "2992               0  \n",
      "2993               0  \n",
      "2994               0  \n",
      "2995               0  \n",
      "\n",
      "[2996 rows x 5 columns]\n"
     ]
    }
   ],
   "source": [
    "import pandas as pd\n",
    "\n",
    "csv_path = \"C:/Users/chuck/OneDrive/Desktop/Honors/solarEL/solarel/Misc/corrossion_df_encoded.csv\"\n",
    "df_encoded = pd.read_csv(csv_path)\n",
    "print(len(df_encoded))\n",
    "print(df_encoded)"
   ]
  },
  {
   "cell_type": "code",
   "execution_count": 15,
   "metadata": {},
   "outputs": [
    {
     "name": "stdout",
     "output_type": "stream",
     "text": [
      "1784\n",
      "            image_name  corrossion_0.0  corrossion_0.33  corrossion_0.66  \\\n",
      "0          image_0.jpg               0                0                1   \n",
      "1          image_1.jpg               0                0                1   \n",
      "2          image_2.jpg               1                0                0   \n",
      "3          image_3.jpg               0                0                1   \n",
      "4          image_4.jpg               0                0                1   \n",
      "...                ...             ...              ...              ...   \n",
      "2977  2_image_2464.jpg               1                0                0   \n",
      "2979  1_image_2466.jpg               1                0                0   \n",
      "2981  0_image_2468.jpg               1                0                0   \n",
      "2990  0_image_2472.jpg               1                0                0   \n",
      "2994  1_image_2473.jpg               1                0                0   \n",
      "\n",
      "      corrossion_1.0  \n",
      "0                  0  \n",
      "1                  0  \n",
      "2                  0  \n",
      "3                  0  \n",
      "4                  0  \n",
      "...              ...  \n",
      "2977               0  \n",
      "2979               0  \n",
      "2981               0  \n",
      "2990               0  \n",
      "2994               0  \n",
      "\n",
      "[1712 rows x 5 columns]\n"
     ]
    }
   ],
   "source": [
    "import pandas as pd\n",
    "import random\n",
    "\n",
    "# Count the number of 1's in the \"good_0.0\" column\n",
    "num_ones = df_encoded['corrossion_0.0'].sum()\n",
    "print(num_ones)\n",
    "\n",
    "# Calculate the number of rows to delete\n",
    "rows_to_delete = num_ones - 500\n",
    "\n",
    "# Get the indices of rows with \"good_0.0\" value equal to 1\n",
    "ones_indices = df_encoded[df_encoded['corrossion_0.0'] == 1].index.tolist()\n",
    "\n",
    "# Randomly choose rows to delete\n",
    "rows_to_delete_indices = random.sample(ones_indices, rows_to_delete)\n",
    "\n",
    "# Drop the selected rows\n",
    "df_encoded = df_encoded.drop(rows_to_delete_indices)\n",
    "\n",
    "print(df_encoded)"
   ]
  },
  {
   "cell_type": "code",
   "execution_count": 16,
   "metadata": {},
   "outputs": [],
   "source": [
    "# df_encoded.to_csv(\"balanced_crack_df_encoded.csv\")\n",
    "df_encoded.to_csv(\"balanced_corrossion_df_encoded.csv\")"
   ]
  }
 ],
 "metadata": {
  "kernelspec": {
   "display_name": "Python 3",
   "language": "python",
   "name": "python3"
  },
  "language_info": {
   "codemirror_mode": {
    "name": "ipython",
    "version": 3
   },
   "file_extension": ".py",
   "mimetype": "text/x-python",
   "name": "python",
   "nbconvert_exporter": "python",
   "pygments_lexer": "ipython3",
   "version": "3.9.7"
  },
  "orig_nbformat": 4
 },
 "nbformat": 4,
 "nbformat_minor": 2
}
