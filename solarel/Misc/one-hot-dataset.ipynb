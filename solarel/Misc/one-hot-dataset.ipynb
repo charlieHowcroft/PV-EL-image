{
 "cells": [
  {
   "cell_type": "code",
   "execution_count": 1,
   "metadata": {},
   "outputs": [],
   "source": [
    "import pandas as pd\n",
    "\n",
    "csv_path_old = \"C:/Users/chuck/OneDrive/Desktop/Honors/solarEL/solarel/Cell_classifiaction/testing/slim_dataset.csv\"\n",
    "csv_path_new_good = \"C:/Users/chuck/OneDrive/Desktop/Honors/propper_datasets/good_oneHot.csv\"\n",
    "csv_path_new_crack = \"C:/Users/chuck/OneDrive/Desktop/Honors/propper_datasets/crack_oneHot.csv\"\n",
    "csv_path_new_corrosion = \"C:/Users/chuck/OneDrive/Desktop/Honors/propper_datasets/corrosion_oneHot.csv\""
   ]
  },
  {
   "cell_type": "code",
   "execution_count": 4,
   "metadata": {},
   "outputs": [],
   "source": [
    "og_df = pd.read_csv(csv_path_old)"
   ]
  },
  {
   "cell_type": "code",
   "execution_count": 7,
   "metadata": {},
   "outputs": [
    {
     "name": "stdout",
     "output_type": "stream",
     "text": [
      "One-Hot Encoded 'good' DataFrame:\n",
      "      good_0.0  good_0.33  good_0.66  good_1.0\n",
      "0            0          1          0         0\n",
      "1            0          1          0         0\n",
      "2            0          1          0         0\n",
      "3            0          1          0         0\n",
      "4            0          0          1         0\n",
      "...        ...        ...        ...       ...\n",
      "5289         0          1          0         0\n",
      "5290         0          0          1         0\n",
      "5291         0          0          1         0\n",
      "5292         0          0          1         0\n",
      "5293         0          0          0         1\n",
      "\n",
      "[5294 rows x 4 columns]\n",
      "\n",
      "One-Hot Encoded 'crack' DataFrame:\n",
      "      crack_0.0  crack_0.33  crack_0.66  crack_1.0\n",
      "0             1           0           0          0\n",
      "1             1           0           0          0\n",
      "2             1           0           0          0\n",
      "3             1           0           0          0\n",
      "4             1           0           0          0\n",
      "...         ...         ...         ...        ...\n",
      "5289          0           0           1          0\n",
      "5290          0           1           0          0\n",
      "5291          0           1           0          0\n",
      "5292          0           1           0          0\n",
      "5293          1           0           0          0\n",
      "\n",
      "[5294 rows x 4 columns]\n",
      "\n",
      "One-Hot Encoded 'corrosion' DataFrame:\n",
      "      corrossion_0.0  corrossion_0.33  corrossion_0.66  corrossion_1.0\n",
      "0                  0                0                1               0\n",
      "1                  0                0                1               0\n",
      "2                  0                0                1               0\n",
      "3                  0                0                1               0\n",
      "4                  0                1                0               0\n",
      "...              ...              ...              ...             ...\n",
      "5289               1                0                0               0\n",
      "5290               1                0                0               0\n",
      "5291               1                0                0               0\n",
      "5292               1                0                0               0\n",
      "5293               1                0                0               0\n",
      "\n",
      "[5294 rows x 4 columns]\n"
     ]
    }
   ],
   "source": [
    "# Define the values that can be present in the one-hot encoded columns\n",
    "possible_values = [0, 0.33, 0.66, 1]\n",
    "\n",
    "# Create one-hot encoded DataFrames for each column\n",
    "one_hot_good = pd.get_dummies(og_df['good'], columns=possible_values, prefix='good')\n",
    "one_hot_crack = pd.get_dummies(og_df['crack'], columns=possible_values, prefix='crack')\n",
    "one_hot_corrosion = pd.get_dummies(og_df['corrossion'], columns=possible_values, prefix='corrossion')\n",
    "\n",
    "\n",
    "one_hot_good.to_csv( csv_path_new_good, index=False)\n",
    "one_hot_crack.to_csv( csv_path_new_crack, index=False)\n",
    "one_hot_corrosion.to_csv( csv_path_new_corrosion, index=False)\n",
    "# Print the one-hot encoded DataFrames\n",
    "print(\"One-Hot Encoded 'good' DataFrame:\")\n",
    "print(one_hot_good)\n",
    "\n",
    "print(\"\\nOne-Hot Encoded 'crack' DataFrame:\")\n",
    "print(one_hot_crack)\n",
    "\n",
    "print(\"\\nOne-Hot Encoded 'corrosion' DataFrame:\")\n",
    "print(one_hot_corrosion)"
   ]
  }
 ],
 "metadata": {
  "kernelspec": {
   "display_name": "Python 3",
   "language": "python",
   "name": "python3"
  },
  "language_info": {
   "codemirror_mode": {
    "name": "ipython",
    "version": 3
   },
   "file_extension": ".py",
   "mimetype": "text/x-python",
   "name": "python",
   "nbconvert_exporter": "python",
   "pygments_lexer": "ipython3",
   "version": "3.9.7"
  },
  "orig_nbformat": 4
 },
 "nbformat": 4,
 "nbformat_minor": 2
}
